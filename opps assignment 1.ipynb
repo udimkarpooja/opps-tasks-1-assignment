{
 "cells": [
  {
   "cell_type": "markdown",
   "id": "a7fd471c-c778-49f3-8bf3-795d2bc84d4a",
   "metadata": {},
   "source": [
    "Q1, Create a vehicle class with an init method having instance variables as name_of_vehicle, max_speed \n",
    "and average_of_vehicle."
   ]
  },
  {
   "cell_type": "code",
   "execution_count": 3,
   "id": "dce0bd8b-455c-4071-a2ec-a4cc7254d369",
   "metadata": {},
   "outputs": [],
   "source": [
    "class vehicle:\n",
    "    \n",
    "    def __init__(self , name_of_vehicle , max_speed , average_of_vehicle):\n",
    "        self.name_of_vehicle = name_of_vehicle\n",
    "        self.max_speed = max_speed\n",
    "        self.average_of_vehicle = average_of_vehicle\n",
    "           "
   ]
  },
  {
   "cell_type": "markdown",
   "id": "2bae59f3-5268-42f0-b661-3ff435e1d74b",
   "metadata": {},
   "source": [
    "Q2.  Create a child class car from the vehicle class created in Que 1, which will inherit the vehicle class. \n",
    "Create a method named seating_capacity which takes capacity as an argument and returns the name of \n",
    "the vehicle and its seating capacity."
   ]
  },
  {
   "cell_type": "code",
   "execution_count": 4,
   "id": "7d074361-5af8-4c59-9b5d-103cdeb02dc0",
   "metadata": {},
   "outputs": [],
   "source": [
    "class child(vehicle):\n",
    "    \n",
    "    def  seating_capacity(self , capacity):\n",
    "        return self.name_of_vehicle , capacity\n",
    "    "
   ]
  },
  {
   "cell_type": "markdown",
   "id": "47e86878-3a95-4382-9bf1-05838176316f",
   "metadata": {},
   "source": [
    "Q3. What is multiple inheritance? Write a python code to demonstrate multiple inheritance."
   ]
  },
  {
   "cell_type": "code",
   "execution_count": 5,
   "id": "951bbb95-ccf7-4d65-8fc5-4d73a3d9f60c",
   "metadata": {},
   "outputs": [],
   "source": [
    "##a class is derived from more than one base class it is called multiple Inheritance.\n",
    "\n",
    "class class1:\n",
    "    def test_class1(self):\n",
    "        return \"this is my class1\"\n",
    "    "
   ]
  },
  {
   "cell_type": "code",
   "execution_count": 6,
   "id": "6788ad10-5f6b-4690-b7ba-2d42755ee159",
   "metadata": {},
   "outputs": [],
   "source": [
    "class class2:\n",
    "    def test_class2(self):\n",
    "        return \"this is my class2\"\n",
    "    "
   ]
  },
  {
   "cell_type": "code",
   "execution_count": 7,
   "id": "523a22c4-00d2-44cf-b30b-6ecc52a58fc5",
   "metadata": {},
   "outputs": [],
   "source": [
    "class class3(class1 , class2):\n",
    "        pass"
   ]
  },
  {
   "cell_type": "code",
   "execution_count": 8,
   "id": "8a0311ad-28f8-4840-8b84-94e4b1e6668e",
   "metadata": {},
   "outputs": [],
   "source": [
    "obj_class3 = class3()"
   ]
  },
  {
   "cell_type": "code",
   "execution_count": 9,
   "id": "9ce721a6-40c4-4649-bb01-1e3dd4857c27",
   "metadata": {},
   "outputs": [
    {
     "data": {
      "text/plain": [
       "'this is my class1'"
      ]
     },
     "execution_count": 9,
     "metadata": {},
     "output_type": "execute_result"
    }
   ],
   "source": [
    "obj_class3.test_class1()"
   ]
  },
  {
   "cell_type": "code",
   "execution_count": 10,
   "id": "ae9773ac-1263-49e3-9896-e6591017a576",
   "metadata": {},
   "outputs": [
    {
     "data": {
      "text/plain": [
       "'this is my class2'"
      ]
     },
     "execution_count": 10,
     "metadata": {},
     "output_type": "execute_result"
    }
   ],
   "source": [
    "obj_class3.test_class2()"
   ]
  },
  {
   "cell_type": "markdown",
   "id": "45a371a8-5cde-4199-961c-d6b27782b4dc",
   "metadata": {},
   "source": [
    "Q4. What are getter and setter in python? Create a class and create a getter and a setter method in this \n",
    "class."
   ]
  },
  {
   "cell_type": "code",
   "execution_count": 19,
   "id": "6e4001d9-a1ec-426c-861e-a3b9edca0cb1",
   "metadata": {},
   "outputs": [],
   "source": [
    "## this method is used to access or read data of the variables. this method do not modify the data in the variable. this is also called getter method.\n",
    "## this mehtod is used to access or read and modify data of the variable this mehtod modify the data inthe variable. this is also called setter method. \n",
    "\n",
    "class mobile :\n",
    "    def __init__(self) :\n",
    "        self.model = \"oppoA16\"\n",
    "        \n",
    "        \n",
    "    def get_model(self) :\n",
    "        return self.model\n",
    "            "
   ]
  },
  {
   "cell_type": "code",
   "execution_count": 13,
   "id": "fbf8cc55-f5c9-4da5-ad3c-79b78946f97b",
   "metadata": {},
   "outputs": [],
   "source": [
    "oppo = mobile()"
   ]
  },
  {
   "cell_type": "code",
   "execution_count": 14,
   "id": "979fbce7-d4b0-46f1-8934-0f337e58b072",
   "metadata": {},
   "outputs": [
    {
     "data": {
      "text/plain": [
       "'oppoA16'"
      ]
     },
     "execution_count": 14,
     "metadata": {},
     "output_type": "execute_result"
    }
   ],
   "source": [
    "oppo.get_model()"
   ]
  },
  {
   "cell_type": "code",
   "execution_count": 15,
   "id": "d7a2f783-113f-4df2-8390-a5ae24369cb9",
   "metadata": {},
   "outputs": [],
   "source": [
    "class mobile1 :\n",
    "\n",
    "        \n",
    "    def set_model(self , model) :\n",
    "        self.model1 = model\n",
    "        return self.model1\n",
    "        "
   ]
  },
  {
   "cell_type": "code",
   "execution_count": 16,
   "id": "51a4a6a6-2ad6-4910-b41a-cd2bd5c0d955",
   "metadata": {},
   "outputs": [],
   "source": [
    "rohan = mobile1()"
   ]
  },
  {
   "cell_type": "code",
   "execution_count": 17,
   "id": "95f2d410-82f7-4094-a839-3bcb8d2c766e",
   "metadata": {},
   "outputs": [
    {
     "data": {
      "text/plain": [
       "'realme x'"
      ]
     },
     "execution_count": 17,
     "metadata": {},
     "output_type": "execute_result"
    }
   ],
   "source": [
    "rohan.set_model(\"realme x\")"
   ]
  },
  {
   "cell_type": "markdown",
   "id": "0d3eb7d2-6ba6-4c65-8dd8-02fd6c2716e3",
   "metadata": {},
   "source": [
    "Q5.What is method overriding in python? Write a python code to demonstrate method overriding."
   ]
  },
  {
   "cell_type": "code",
   "execution_count": 18,
   "id": "776bdb30-2426-478a-9b62-c4ed464bab14",
   "metadata": {},
   "outputs": [
    {
     "data": {
      "text/plain": [
       "'I CAN FLY'"
      ]
     },
     "execution_count": 18,
     "metadata": {},
     "output_type": "execute_result"
    }
   ],
   "source": [
    "## In method overriding, the child class can change its functions that are defined by its parent classes.\n",
    "\n",
    "class bird :\n",
    "    def class_bird(self):\n",
    "        return\"I CAN FLY\"\n",
    "    \n",
    "class eagle(bird) :\n",
    "    pass\n",
    "\n",
    "BIRD = eagle()\n",
    "BIRD.class_bird()\n",
    "    "
   ]
  },
  {
   "cell_type": "code",
   "execution_count": null,
   "id": "0bc2a750-10c9-4331-9be4-aad725cb6d97",
   "metadata": {},
   "outputs": [],
   "source": []
  },
  {
   "cell_type": "code",
   "execution_count": null,
   "id": "fd056703-1c95-4945-aa55-b782cb73dd2f",
   "metadata": {},
   "outputs": [],
   "source": []
  }
 ],
 "metadata": {
  "kernelspec": {
   "display_name": "Python 3 (ipykernel)",
   "language": "python",
   "name": "python3"
  },
  "language_info": {
   "codemirror_mode": {
    "name": "ipython",
    "version": 3
   },
   "file_extension": ".py",
   "mimetype": "text/x-python",
   "name": "python",
   "nbconvert_exporter": "python",
   "pygments_lexer": "ipython3",
   "version": "3.10.8"
  }
 },
 "nbformat": 4,
 "nbformat_minor": 5
}
